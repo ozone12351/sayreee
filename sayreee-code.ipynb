### 21 may 2024

## MuJI
muji has multiple data such as costumer, foot traffic and income. All data is then processed by the company called wingarc the data is used to analysist the probability of costumer and what they buy.

## Macdonald
Mac is one of the popular hamburger and data analysis is very important the data can be just from a customer income to a costumer happiness as same as muji the data is processed to help for voucher coupon discount or how they can imporved the selling also data can help they buy ingredients as they need.

## Netflix
netflix one of the most popular streaming platform the data is used such as viewing and how long they do The data is used for giving movie they like so people are interest in using netflix more.

## Nike
nike one of the famous shoe brand nike use data such as how people run how they like the shoes or even how much they run and would be comfortable with the shoe These paramiter is then used to design better shoes for nike customers.

## Hemnet
Hemnet is one of the Sweden's largest property platform. it use many property data to analyst customer wants and also what is suitable landscaping for that property. The data could consist from mapping of how much land is cost in the area or how much customer in the area can brought the property. They could also use some customer feelings to house type style and how it construct to help the house constuct or village contractor improve their customer relation ship to the house for better income.
"""

######################################################## END OF THE CODE ####################################################################################################
import smtplib, ssl
port = 465  # For SSL
smtp_server = "smtp.gmail.com"
sender_email = "ozone.ap23@gmail.com"
password = "dhxr ammq nrrc dyae"
print("ส่งงานครูปุ่นแล้ว ไปนอนดีกว่า")
print("อยากสร้าง AI แล้วววววววว")
submit = int(input("ถ้าครูตรวจแล้วและเห็นข้อความแล้ว กด 1: "))
submit = submit*submit
if submit >= 0:
  context = ssl.create_default_context()
  with smtplib.SMTP_SSL(smtp_server, port, context=context) as server:
    server.login(sender_email, password)
    server.sendmail(sender_email, "ozone.ap23@gmail.com", "t.yeepon already checked")
    server.sendmail(sender_email, "yeepoon.spim37@gmail.com", "t.yeepon already checked")

######################################################## END OF THE CODE ####################################################################################################

"""28 may 2024"""

temp = float(input('temp:'))
if temp >= 40:
      print("Turn on air")
else:
  print("done")

######################################################## END OF THE CODE ####################################################################################################

a=3.42334554
b=0.6543
print("a=%d"%(a))
print("a=%.2f"%(b))
print("a=%.4f"%(a))

######################################################## END OF THE CODE ####################################################################################################

def a(l):
  area = l*l
  return area
cal = lambda x,y:x*y

findv = lambda i,r:i*r
findr = lambda i,v:i/v
findi = lambda v,r:v/r

print(findv(2,3))
print(findr(2,3))
print(findi(2,3))

######################################################## END OF THE CODE ####################################################################################################

data1=[1,2,3,4,5]
type(data1)
len(data1)
sum(data1)
data.append(6)
del data1[0:2]

######################################################## END OF THE CODE ####################################################################################################



"""4/6/2567

"""

n = 8

m = n+1

for i in range(n//2-1):
	for j in range(m):


		if i == n//2-2 and (j == 0 or j == m-1):
			print("*", end=" ")


		elif j <= m//2 and ((i+j == n//2-3 and j <= m//4) \
							or (j-i == m//2-n//2+3 and j > m//4)):
			print("*", end=" ")


		elif j > m//2 and ((i+j == n//2-3+m//2 and j < 3*m//4) \
						or (j-i == m//2-n//2+3+m//2 and j >= 3*m//4)):
			print("*", end=" ")


		else:
			print(" ", end=" ")
	print()


for i in range(n//2-1, n):
	for j in range(m):

		if (i-j == n//2-1) or (i+j == n-1+m//2):
			print('*', end=" ")

		elif i == n//2-1:

			if j == m//2-1 or j == m//2+1:
				print(' ', end=" ")
			elif j == m//2:
				print(' ', end=" ")
			else:
				print(' ', end=" ")

		else:
			print(' ', end=" ")

	print()

######################################################## END OF THE CODE ####################################################################################################

import pandas as pd
test1=[30,42,23,35,34]
tp1=pd.Series(test1)
print(tp1)

######################################################## END OF THE CODE ####################################################################################################

test2={"e":1,"c":123,"p":245}
tp2=pd.Series(test2)
print(tp2)

######################################################## END OF THE CODE ####################################################################################################

test3=[10,20,30,40]
indx=["ann","poom","tong","sam"]
yp3=pd.Series(test3,index=indx)
print(yp3)

######################################################## END OF THE CODE ####################################################################################################

cost=[229,499,59,399]
c1=pd.Series(cost)
print(c1)

######################################################## END OF THE CODE ####################################################################################################

product=["shirt","shoe","socks","bag"]
p1=pd.Series(product)
print(p1)

######################################################## END OF THE CODE ####################################################################################################

sum=pd.Series(cost,product)
print(sum)

######################################################## END OF THE CODE ####################################################################################################


indx = [1,2,3,4]
things = ["shirt   229","shoe   499","socks    59","bag    399"]

sum2=pd.Series(things,indx)
print(sum2)

######################################################## END OF THE CODE ####################################################################################################


import numpy as np
a =np.array([2,5,8,9,10])
a=a+10
print(a)

db=[10,24,38,40,55]
np.mean(db)
np.max(db)
np.min(db)

mydata1=(15,10,5,20)
mydata2=(25,25,35)
print(np.sum(mydata2))
print(np.sort(mydata1))
print(np.max(mydata1))
print(np.min(mydata1))
print(np.mean(mydata2))
print(np.sum(mydata1))
print(mydata1+mydata2)

######################################################## END OF THE CODE ####################################################################################################


"""11/6/24"""

import matplotlib.pyplot as plt
x=[1,2,3,4,5]
y=[5,15,15,20,10]

plt.plot(x,y)
plt.show

######################################################## END OF THE CODE ####################################################################################################


import matplotlib.pyplot as plt
x=["Mon","Tue","Wed","Thu","Fri"]
y=[150,200,300,250,200]

plt.plot(x,y)
plt.show

######################################################## END OF THE CODE ####################################################################################################

import matplotlib.pyplot as plt
x=["Mon","Tue","Wed","Thu","Fri"]
y=[150,200,300,250,200]

plt.style.use("seaborn-paper")
plt.plot(x,y)
plt.show

######################################################## END OF THE CODE ####################################################################################################

import matplotlib.pyplot as plt
x=["Mon","Tue","Wed","Thu","Fri"]
y=[150,200,300,250,200]
plt.plot(x,y)
plt.style.use("seaborn-paper")
plt.title("Graph for 5 day expense")
plt.ylabel("expense")
plt.xlabel("day")
plt.show
